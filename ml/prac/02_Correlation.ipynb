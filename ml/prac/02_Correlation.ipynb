{
 "cells": [
  {
   "cell_type": "markdown",
   "id": "01f751dc",
   "metadata": {},
   "source": [
    "# 02. 상관관계 분석"
   ]
  },
  {
   "cell_type": "code",
   "execution_count": 1,
   "id": "0719124e",
   "metadata": {},
   "outputs": [],
   "source": [
    "import pymysql\n",
    "import pandas as pd\n",
    "import matplotlib.pyplot as plt\n",
    "import seaborn as sns"
   ]
  },
  {
   "cell_type": "code",
   "execution_count": 2,
   "id": "6c345eed",
   "metadata": {},
   "outputs": [],
   "source": [
    "conn = pymysql.connect(host='localhost', user='ssafy', password='ssafy',\n",
    "                       db='docong_test_v1', charset='utf8')\n",
    "cursor = conn.cursor()\n",
    "\n",
    "# 데이터\n",
    "\n",
    "def get_data(table):\n",
    "    cursor.execute(f'SELECT * FROM {table}')\n",
    "    return cursor.fetchall()\n",
    "\n",
    "# 컬럼\n",
    "\n",
    "def get_columns(table):\n",
    "    cursor.execute(f'SHOW columns FROM {table}')\n",
    "    columns = cursor.fetchall()\n",
    "    \n",
    "    table_columns = []\n",
    "    for column in columns:\n",
    "        table_columns.append(column[0])\n",
    "    \n",
    "    table_columns[0] = f'{table}_seq'\n",
    "    return table_columns"
   ]
  },
  {
   "cell_type": "code",
   "execution_count": 8,
   "id": "ec44301d",
   "metadata": {
    "scrolled": true
   },
   "outputs": [
    {
     "data": {
      "text/html": [
       "<div>\n",
       "<style scoped>\n",
       "    .dataframe tbody tr th:only-of-type {\n",
       "        vertical-align: middle;\n",
       "    }\n",
       "\n",
       "    .dataframe tbody tr th {\n",
       "        vertical-align: top;\n",
       "    }\n",
       "\n",
       "    .dataframe thead th {\n",
       "        text-align: right;\n",
       "    }\n",
       "</style>\n",
       "<table border=\"1\" class=\"dataframe\">\n",
       "  <thead>\n",
       "    <tr style=\"text-align: right;\">\n",
       "      <th></th>\n",
       "      <th>todo_seq</th>\n",
       "      <th>created_date</th>\n",
       "      <th>modified_date</th>\n",
       "      <th>predicted_pomo</th>\n",
       "      <th>real_pomo</th>\n",
       "      <th>status</th>\n",
       "      <th>work_importance</th>\n",
       "      <th>work_proficiency</th>\n",
       "      <th>work_type</th>\n",
       "      <th>team_seq</th>\n",
       "    </tr>\n",
       "  </thead>\n",
       "  <tbody>\n",
       "    <tr>\n",
       "      <th>0</th>\n",
       "      <td>17</td>\n",
       "      <td>2022-03-23 05:21:01</td>\n",
       "      <td>2022-03-24 15:21:18</td>\n",
       "      <td>8</td>\n",
       "      <td>8</td>\n",
       "      <td>2</td>\n",
       "      <td>3</td>\n",
       "      <td>1</td>\n",
       "      <td>2</td>\n",
       "      <td>None</td>\n",
       "    </tr>\n",
       "    <tr>\n",
       "      <th>1</th>\n",
       "      <td>19</td>\n",
       "      <td>2022-03-23 05:21:55</td>\n",
       "      <td>2022-03-24 05:01:30</td>\n",
       "      <td>4</td>\n",
       "      <td>1</td>\n",
       "      <td>2</td>\n",
       "      <td>3</td>\n",
       "      <td>2</td>\n",
       "      <td>13</td>\n",
       "      <td>None</td>\n",
       "    </tr>\n",
       "    <tr>\n",
       "      <th>2</th>\n",
       "      <td>23</td>\n",
       "      <td>2022-03-23 05:29:18</td>\n",
       "      <td>2022-03-24 00:32:12</td>\n",
       "      <td>2</td>\n",
       "      <td>2</td>\n",
       "      <td>2</td>\n",
       "      <td>3</td>\n",
       "      <td>0</td>\n",
       "      <td>4</td>\n",
       "      <td>None</td>\n",
       "    </tr>\n",
       "    <tr>\n",
       "      <th>3</th>\n",
       "      <td>25</td>\n",
       "      <td>2022-03-23 05:29:48</td>\n",
       "      <td>2022-03-25 02:05:03</td>\n",
       "      <td>4</td>\n",
       "      <td>5</td>\n",
       "      <td>1</td>\n",
       "      <td>3</td>\n",
       "      <td>0</td>\n",
       "      <td>6</td>\n",
       "      <td>None</td>\n",
       "    </tr>\n",
       "    <tr>\n",
       "      <th>4</th>\n",
       "      <td>27</td>\n",
       "      <td>2022-03-23 05:31:51</td>\n",
       "      <td>2022-03-24 00:59:39</td>\n",
       "      <td>3</td>\n",
       "      <td>4</td>\n",
       "      <td>2</td>\n",
       "      <td>3</td>\n",
       "      <td>1</td>\n",
       "      <td>2</td>\n",
       "      <td>None</td>\n",
       "    </tr>\n",
       "  </tbody>\n",
       "</table>\n",
       "</div>"
      ],
      "text/plain": [
       "   todo_seq        created_date       modified_date  predicted_pomo  \\\n",
       "0        17 2022-03-23 05:21:01 2022-03-24 15:21:18               8   \n",
       "1        19 2022-03-23 05:21:55 2022-03-24 05:01:30               4   \n",
       "2        23 2022-03-23 05:29:18 2022-03-24 00:32:12               2   \n",
       "3        25 2022-03-23 05:29:48 2022-03-25 02:05:03               4   \n",
       "4        27 2022-03-23 05:31:51 2022-03-24 00:59:39               3   \n",
       "\n",
       "   real_pomo  status  work_importance  work_proficiency  work_type team_seq  \n",
       "0          8       2                3                 1          2     None  \n",
       "1          1       2                3                 2         13     None  \n",
       "2          2       2                3                 0          4     None  \n",
       "3          5       1                3                 0          6     None  \n",
       "4          4       2                3                 1          2     None  "
      ]
     },
     "execution_count": 8,
     "metadata": {},
     "output_type": "execute_result"
    }
   ],
   "source": [
    "# todo\n",
    "\n",
    "todo_data = get_data('todo')\n",
    "todo_columns = get_columns('todo')\n",
    "todo_df = pd.DataFrame(todo_data, columns = todo_columns)\n",
    "\n",
    "todo_df.drop(['content', 'title'], axis=1, inplace=True)\n",
    "todo_df.head()"
   ]
  },
  {
   "cell_type": "code",
   "execution_count": 9,
   "id": "27587942",
   "metadata": {},
   "outputs": [],
   "source": [
    "todo_df = todo_df.drop(['todo_seq', 'created_date', 'modified_date', 'team_seq'], axis=1)"
   ]
  },
  {
   "cell_type": "code",
   "execution_count": 18,
   "id": "32159976",
   "metadata": {},
   "outputs": [
    {
     "data": {
      "image/png": "[encoded data removed]",
      "text/plain": [
       "<Figure size 1080x216 with 2 Axes>"
      ]
     },
     "metadata": {
      "needs_background": "light"
     },
     "output_type": "display_data"
    }
   ],
   "source": [
    "todo_corr = todo_df.corr()\n",
    "\n",
    "plt.figure(figsize=(15, 3))\n",
    "sns.heatmap(todo_corr.sort_values(by=['real_pomo'], ascending=False).head(1), cmap='Blues')\n",
    "plt.show()"
   ]
  },
  {
   "cell_type": "code",
   "execution_count": 13,
   "id": "3719831a",
   "metadata": {},
   "outputs": [
    {
     "data": {
      "text/html": [
       "<div>\n",
       "<style scoped>\n",
       "    .dataframe tbody tr th:only-of-type {\n",
       "        vertical-align: middle;\n",
       "    }\n",
       "\n",
       "    .dataframe tbody tr th {\n",
       "        vertical-align: top;\n",
       "    }\n",
       "\n",
       "    .dataframe thead th {\n",
       "        text-align: right;\n",
       "    }\n",
       "</style>\n",
       "<table border=\"1\" class=\"dataframe\">\n",
       "  <thead>\n",
       "    <tr style=\"text-align: right;\">\n",
       "      <th></th>\n",
       "      <th>real_pomo</th>\n",
       "    </tr>\n",
       "  </thead>\n",
       "  <tbody>\n",
       "    <tr>\n",
       "      <th>real_pomo</th>\n",
       "      <td>1.000000</td>\n",
       "    </tr>\n",
       "    <tr>\n",
       "      <th>predicted_pomo</th>\n",
       "      <td>0.384150</td>\n",
       "    </tr>\n",
       "    <tr>\n",
       "      <th>work_importance</th>\n",
       "      <td>0.231069</td>\n",
       "    </tr>\n",
       "    <tr>\n",
       "      <th>status</th>\n",
       "      <td>0.150989</td>\n",
       "    </tr>\n",
       "    <tr>\n",
       "      <th>work_proficiency</th>\n",
       "      <td>-0.209660</td>\n",
       "    </tr>\n",
       "    <tr>\n",
       "      <th>work_type</th>\n",
       "      <td>-0.412829</td>\n",
       "    </tr>\n",
       "  </tbody>\n",
       "</table>\n",
       "</div>"
      ],
      "text/plain": [
       "                  real_pomo\n",
       "real_pomo          1.000000\n",
       "predicted_pomo     0.384150\n",
       "work_importance    0.231069\n",
       "status             0.150989\n",
       "work_proficiency  -0.209660\n",
       "work_type         -0.412829"
      ]
     },
     "execution_count": 13,
     "metadata": {},
     "output_type": "execute_result"
    }
   ],
   "source": [
    "todo_corr['real_pomo'].sort_values(ascending=False).to_frame()"
   ]
  },
  {
   "cell_type": "code",
   "execution_count": null,
   "id": "672a239d",
   "metadata": {},
   "outputs": [],
   "source": []
  }
 ],
 "metadata": {
  "kernelspec": {
   "display_name": "Python 3 (ipykernel)",
   "language": "python",
   "name": "python3"
  },
  "language_info": {
   "codemirror_mode": {
    "name": "ipython",
    "version": 3
   },
   "file_extension": ".py",
   "mimetype": "text/x-python",
   "name": "python",
   "nbconvert_exporter": "python",
   "pygments_lexer": "ipython3",
   "version": "3.8.10"
  }
 },
 "nbformat": 4,
 "nbformat_minor": 5
}
